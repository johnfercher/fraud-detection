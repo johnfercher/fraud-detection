{
 "cells": [
  {
   "cell_type": "markdown",
   "metadata": {},
   "source": [
    "### imports"
   ]
  },
  {
   "cell_type": "code",
   "execution_count": 2,
   "metadata": {},
   "outputs": [],
   "source": [
    "import numpy as np\n",
    "import pandas as pd\n",
    "import matplotlib.pyplot as plt"
   ]
  },
  {
   "cell_type": "markdown",
   "metadata": {},
   "source": [
    "### Loading step\n",
    "\n",
    "Synthetic Transactions: https://www.kaggle.com/ntnu-testimon/paysim1"
   ]
  },
  {
   "cell_type": "code",
   "execution_count": 3,
   "metadata": {},
   "outputs": [],
   "source": [
    "dataset = pd.read_csv('data/PS_20174392719_1491204439457_log.csv')"
   ]
  },
  {
   "cell_type": "markdown",
   "metadata": {},
   "source": [
    "### Sample the data"
   ]
  },
  {
   "cell_type": "code",
   "execution_count": 4,
   "metadata": {},
   "outputs": [],
   "source": [
    "subdataset = dataset.sample(frac=0.2)\n",
    "subdataset = subdataset.sort_values(by=['step'])"
   ]
  },
  {
   "cell_type": "markdown",
   "metadata": {},
   "source": [
    "### Basic visualization"
   ]
  },
  {
   "cell_type": "code",
   "execution_count": 5,
   "metadata": {},
   "outputs": [
    {
     "name": "stdout",
     "output_type": "stream",
     "text": [
      "total: 1272524\n",
      "fraud: 1640\n",
      "nonfraud 1270884\n",
      "fraud proportion 0.0012887772647117068\n"
     ]
    },
    {
     "data": {
      "text/html": [
       "<div>\n",
       "<style scoped>\n",
       "    .dataframe tbody tr th:only-of-type {\n",
       "        vertical-align: middle;\n",
       "    }\n",
       "\n",
       "    .dataframe tbody tr th {\n",
       "        vertical-align: top;\n",
       "    }\n",
       "\n",
       "    .dataframe thead th {\n",
       "        text-align: right;\n",
       "    }\n",
       "</style>\n",
       "<table border=\"1\" class=\"dataframe\">\n",
       "  <thead>\n",
       "    <tr style=\"text-align: right;\">\n",
       "      <th></th>\n",
       "      <th>step</th>\n",
       "      <th>type</th>\n",
       "      <th>amount</th>\n",
       "      <th>nameOrig</th>\n",
       "      <th>oldbalanceOrg</th>\n",
       "      <th>newbalanceOrig</th>\n",
       "      <th>nameDest</th>\n",
       "      <th>oldbalanceDest</th>\n",
       "      <th>newbalanceDest</th>\n",
       "      <th>isFraud</th>\n",
       "      <th>isFlaggedFraud</th>\n",
       "    </tr>\n",
       "  </thead>\n",
       "  <tbody>\n",
       "    <tr>\n",
       "      <th>1622</th>\n",
       "      <td>1</td>\n",
       "      <td>PAYMENT</td>\n",
       "      <td>5072.52</td>\n",
       "      <td>C1229184766</td>\n",
       "      <td>0.00</td>\n",
       "      <td>0.00</td>\n",
       "      <td>M1592763413</td>\n",
       "      <td>0.00</td>\n",
       "      <td>0.00</td>\n",
       "      <td>0</td>\n",
       "      <td>0</td>\n",
       "    </tr>\n",
       "    <tr>\n",
       "      <th>2196</th>\n",
       "      <td>1</td>\n",
       "      <td>PAYMENT</td>\n",
       "      <td>7846.95</td>\n",
       "      <td>C190153364</td>\n",
       "      <td>66203.63</td>\n",
       "      <td>58356.68</td>\n",
       "      <td>M766101</td>\n",
       "      <td>0.00</td>\n",
       "      <td>0.00</td>\n",
       "      <td>0</td>\n",
       "      <td>0</td>\n",
       "    </tr>\n",
       "    <tr>\n",
       "      <th>1733</th>\n",
       "      <td>1</td>\n",
       "      <td>DEBIT</td>\n",
       "      <td>1285.04</td>\n",
       "      <td>C435297131</td>\n",
       "      <td>285362.00</td>\n",
       "      <td>284076.96</td>\n",
       "      <td>C461160828</td>\n",
       "      <td>20968.70</td>\n",
       "      <td>17860.54</td>\n",
       "      <td>0</td>\n",
       "      <td>0</td>\n",
       "    </tr>\n",
       "    <tr>\n",
       "      <th>473</th>\n",
       "      <td>1</td>\n",
       "      <td>CASH_IN</td>\n",
       "      <td>32325.24</td>\n",
       "      <td>C1122233828</td>\n",
       "      <td>4473650.15</td>\n",
       "      <td>4505975.39</td>\n",
       "      <td>C1068824137</td>\n",
       "      <td>158866.76</td>\n",
       "      <td>265092.36</td>\n",
       "      <td>0</td>\n",
       "      <td>0</td>\n",
       "    </tr>\n",
       "    <tr>\n",
       "      <th>1998</th>\n",
       "      <td>1</td>\n",
       "      <td>CASH_OUT</td>\n",
       "      <td>287126.39</td>\n",
       "      <td>C10885570</td>\n",
       "      <td>1861352.98</td>\n",
       "      <td>1574226.59</td>\n",
       "      <td>C793315160</td>\n",
       "      <td>29078.22</td>\n",
       "      <td>139915.18</td>\n",
       "      <td>0</td>\n",
       "      <td>0</td>\n",
       "    </tr>\n",
       "  </tbody>\n",
       "</table>\n",
       "</div>"
      ],
      "text/plain": [
       "      step      type     amount     nameOrig  oldbalanceOrg  newbalanceOrig  \\\n",
       "1622     1   PAYMENT    5072.52  C1229184766           0.00            0.00   \n",
       "2196     1   PAYMENT    7846.95   C190153364       66203.63        58356.68   \n",
       "1733     1     DEBIT    1285.04   C435297131      285362.00       284076.96   \n",
       "473      1   CASH_IN   32325.24  C1122233828     4473650.15      4505975.39   \n",
       "1998     1  CASH_OUT  287126.39    C10885570     1861352.98      1574226.59   \n",
       "\n",
       "         nameDest  oldbalanceDest  newbalanceDest  isFraud  isFlaggedFraud  \n",
       "1622  M1592763413            0.00            0.00        0               0  \n",
       "2196      M766101            0.00            0.00        0               0  \n",
       "1733   C461160828        20968.70        17860.54        0               0  \n",
       "473   C1068824137       158866.76       265092.36        0               0  \n",
       "1998   C793315160        29078.22       139915.18        0               0  "
      ]
     },
     "execution_count": 5,
     "metadata": {},
     "output_type": "execute_result"
    }
   ],
   "source": [
    "transactions_qtd = subdataset.shape[0]\n",
    "fraud_qtd = len(list(filter(lambda x: x == 1, subdataset['isFraud'])))\n",
    "nonfraud_qtd = len(list(filter(lambda x: x == 0, subdataset['isFraud'])))\n",
    "proportion = fraud_qtd / transactions_qtd\n",
    "\n",
    "print('total:', transactions_qtd)\n",
    "print('fraud:', fraud_qtd)\n",
    "print('nonfraud', nonfraud_qtd)\n",
    "print('fraud proportion', proportion)\n",
    "subdataset.head()"
   ]
  },
  {
   "cell_type": "markdown",
   "metadata": {},
   "source": [
    "### Computation"
   ]
  },
  {
   "cell_type": "code",
   "execution_count": 7,
   "metadata": {},
   "outputs": [
    {
     "data": {
      "text/plain": [
       "[<matplotlib.lines.Line2D at 0x7f0a25bee320>]"
      ]
     },
     "execution_count": 7,
     "metadata": {},
     "output_type": "execute_result"
    },
    {
     "data": {
      "image/png": "[encoded data removed]",
      "text/plain": [
       "<Figure size 432x288 with 1 Axes>"
      ]
     },
     "metadata": {},
     "output_type": "display_data"
    }
   ],
   "source": [
    "x = subdataset[['step']]\n",
    "y = subdataset[['isFraud']]\n",
    "\n",
    "\n",
    "plt.plot(x, y, 'ro')"
   ]
  }
 ],
 "metadata": {
  "kernelspec": {
   "display_name": "Python 3",
   "language": "python",
   "name": "python3"
  },
  "language_info": {
   "codemirror_mode": {
    "name": "ipython",
    "version": 3
   },
   "file_extension": ".py",
   "mimetype": "text/x-python",
   "name": "python",
   "nbconvert_exporter": "python",
   "pygments_lexer": "ipython3",
   "version": "3.6.5"
  }
 },
 "nbformat": 4,
 "nbformat_minor": 2
}
