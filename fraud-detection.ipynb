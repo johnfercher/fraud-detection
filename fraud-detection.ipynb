{
 "cells": [
  {
   "cell_type": "markdown",
   "metadata": {},
   "source": [
    "### imports"
   ]
  },
  {
   "cell_type": "code",
   "execution_count": 3,
   "metadata": {},
   "outputs": [],
   "source": [
    "import numpy as np\n",
    "import pandas as pd\n",
    "import matplotlib.pyplot as plt\n",
    "import matplotlib as mpl"
   ]
  },
  {
   "cell_type": "markdown",
   "metadata": {},
   "source": [
    "### Loading step\n",
    "\n",
    "Synthetic Transactions: https://www.kaggle.com/ntnu-testimon/paysim1"
   ]
  },
  {
   "cell_type": "code",
   "execution_count": 4,
   "metadata": {},
   "outputs": [],
   "source": [
    "# Load file\n",
    "dataset = pd.read_csv('data/PS_20174392719_1491204439457_log.csv')\n",
    "\n",
    "# Remove types that never are fraud\n",
    "dataset = dataset.loc[dataset['type'] != 'PAYMENT']\n",
    "dataset = dataset.loc[dataset['type'] != 'DEBIT']\n",
    "dataset = dataset.loc[dataset['type'] != 'CASH_IN']\n",
    "\n",
    "# Maps domain to numbers\n",
    "dataset = dataset.replace(\"TRANSFER\", 0)\n",
    "dataset = dataset.replace(\"CASH_OUT\", 1)"
   ]
  },
  {
   "cell_type": "markdown",
   "metadata": {},
   "source": [
    "### Sample the data"
   ]
  },
  {
   "cell_type": "code",
   "execution_count": 45,
   "metadata": {},
   "outputs": [],
   "source": [
    "trainset = dataset.sample(frac=0.01)\n",
    "testset = dataset.sample(frac=0.01)"
   ]
  },
  {
   "cell_type": "markdown",
   "metadata": {},
   "source": [
    "### Train dataset information"
   ]
  },
  {
   "cell_type": "code",
   "execution_count": 46,
   "metadata": {},
   "outputs": [
    {
     "name": "stdout",
     "output_type": "stream",
     "text": [
      "train_total: 27704\n",
      "train_fraud: 75\n",
      "train_nonfraud 27629\n",
      "train_fraud proportion 0.002707190297429974\n"
     ]
    },
    {
     "data": {
      "text/html": [
       "<div>\n",
       "<style scoped>\n",
       "    .dataframe tbody tr th:only-of-type {\n",
       "        vertical-align: middle;\n",
       "    }\n",
       "\n",
       "    .dataframe tbody tr th {\n",
       "        vertical-align: top;\n",
       "    }\n",
       "\n",
       "    .dataframe thead th {\n",
       "        text-align: right;\n",
       "    }\n",
       "</style>\n",
       "<table border=\"1\" class=\"dataframe\">\n",
       "  <thead>\n",
       "    <tr style=\"text-align: right;\">\n",
       "      <th></th>\n",
       "      <th>step</th>\n",
       "      <th>type</th>\n",
       "      <th>amount</th>\n",
       "      <th>nameOrig</th>\n",
       "      <th>oldbalanceOrg</th>\n",
       "      <th>newbalanceOrig</th>\n",
       "      <th>nameDest</th>\n",
       "      <th>oldbalanceDest</th>\n",
       "      <th>newbalanceDest</th>\n",
       "      <th>isFraud</th>\n",
       "      <th>isFlaggedFraud</th>\n",
       "    </tr>\n",
       "  </thead>\n",
       "  <tbody>\n",
       "    <tr>\n",
       "      <th>1240571</th>\n",
       "      <td>134</td>\n",
       "      <td>1</td>\n",
       "      <td>107193.87</td>\n",
       "      <td>C1571655690</td>\n",
       "      <td>0.00</td>\n",
       "      <td>0.0</td>\n",
       "      <td>C1490390160</td>\n",
       "      <td>717083.28</td>\n",
       "      <td>824277.15</td>\n",
       "      <td>0</td>\n",
       "      <td>0</td>\n",
       "    </tr>\n",
       "    <tr>\n",
       "      <th>5175269</th>\n",
       "      <td>359</td>\n",
       "      <td>1</td>\n",
       "      <td>67995.71</td>\n",
       "      <td>C1602394502</td>\n",
       "      <td>8490.76</td>\n",
       "      <td>0.0</td>\n",
       "      <td>C2038912826</td>\n",
       "      <td>386435.62</td>\n",
       "      <td>454431.33</td>\n",
       "      <td>0</td>\n",
       "      <td>0</td>\n",
       "    </tr>\n",
       "    <tr>\n",
       "      <th>5125679</th>\n",
       "      <td>356</td>\n",
       "      <td>1</td>\n",
       "      <td>46235.89</td>\n",
       "      <td>C1865090461</td>\n",
       "      <td>1633.57</td>\n",
       "      <td>0.0</td>\n",
       "      <td>C1477365256</td>\n",
       "      <td>1787695.51</td>\n",
       "      <td>1833931.40</td>\n",
       "      <td>0</td>\n",
       "      <td>0</td>\n",
       "    </tr>\n",
       "    <tr>\n",
       "      <th>1786155</th>\n",
       "      <td>162</td>\n",
       "      <td>1</td>\n",
       "      <td>155645.91</td>\n",
       "      <td>C462053144</td>\n",
       "      <td>145.00</td>\n",
       "      <td>0.0</td>\n",
       "      <td>C434947415</td>\n",
       "      <td>0.00</td>\n",
       "      <td>155645.91</td>\n",
       "      <td>0</td>\n",
       "      <td>0</td>\n",
       "    </tr>\n",
       "    <tr>\n",
       "      <th>3914307</th>\n",
       "      <td>284</td>\n",
       "      <td>1</td>\n",
       "      <td>36408.08</td>\n",
       "      <td>C660678666</td>\n",
       "      <td>10538.00</td>\n",
       "      <td>0.0</td>\n",
       "      <td>C271159667</td>\n",
       "      <td>0.00</td>\n",
       "      <td>36408.08</td>\n",
       "      <td>0</td>\n",
       "      <td>0</td>\n",
       "    </tr>\n",
       "  </tbody>\n",
       "</table>\n",
       "</div>"
      ],
      "text/plain": [
       "         step  type     amount     nameOrig  oldbalanceOrg  newbalanceOrig  \\\n",
       "1240571   134     1  107193.87  C1571655690           0.00             0.0   \n",
       "5175269   359     1   67995.71  C1602394502        8490.76             0.0   \n",
       "5125679   356     1   46235.89  C1865090461        1633.57             0.0   \n",
       "1786155   162     1  155645.91   C462053144         145.00             0.0   \n",
       "3914307   284     1   36408.08   C660678666       10538.00             0.0   \n",
       "\n",
       "            nameDest  oldbalanceDest  newbalanceDest  isFraud  isFlaggedFraud  \n",
       "1240571  C1490390160       717083.28       824277.15        0               0  \n",
       "5175269  C2038912826       386435.62       454431.33        0               0  \n",
       "5125679  C1477365256      1787695.51      1833931.40        0               0  \n",
       "1786155   C434947415            0.00       155645.91        0               0  \n",
       "3914307   C271159667            0.00        36408.08        0               0  "
      ]
     },
     "execution_count": 46,
     "metadata": {},
     "output_type": "execute_result"
    }
   ],
   "source": [
    "train_qtd = trainset.shape[0]\n",
    "train_fraud_qtd = len(list(filter(lambda x: x == 1, trainset['isFraud'])))\n",
    "train_nonfraud_qtd = len(list(filter(lambda x: x == 0, trainset['isFraud'])))\n",
    "train_proportion = train_fraud_qtd / train_qtd\n",
    "\n",
    "print('train_total:', train_qtd)\n",
    "print('train_fraud:', train_fraud_qtd)\n",
    "print('train_nonfraud', train_nonfraud_qtd)\n",
    "print('train_fraud proportion', train_proportion)\n",
    "trainset.head()"
   ]
  },
  {
   "cell_type": "markdown",
   "metadata": {},
   "source": [
    "### Test dataset information"
   ]
  },
  {
   "cell_type": "code",
   "execution_count": 47,
   "metadata": {},
   "outputs": [
    {
     "name": "stdout",
     "output_type": "stream",
     "text": [
      "test_total: 27704\n",
      "test_fraud: 93\n",
      "test_nonfraud 27611\n",
      "test_fraud proportion 0.003356915968813168\n"
     ]
    },
    {
     "data": {
      "text/html": [
       "<div>\n",
       "<style scoped>\n",
       "    .dataframe tbody tr th:only-of-type {\n",
       "        vertical-align: middle;\n",
       "    }\n",
       "\n",
       "    .dataframe tbody tr th {\n",
       "        vertical-align: top;\n",
       "    }\n",
       "\n",
       "    .dataframe thead th {\n",
       "        text-align: right;\n",
       "    }\n",
       "</style>\n",
       "<table border=\"1\" class=\"dataframe\">\n",
       "  <thead>\n",
       "    <tr style=\"text-align: right;\">\n",
       "      <th></th>\n",
       "      <th>step</th>\n",
       "      <th>type</th>\n",
       "      <th>amount</th>\n",
       "      <th>nameOrig</th>\n",
       "      <th>oldbalanceOrg</th>\n",
       "      <th>newbalanceOrig</th>\n",
       "      <th>nameDest</th>\n",
       "      <th>oldbalanceDest</th>\n",
       "      <th>newbalanceDest</th>\n",
       "      <th>isFraud</th>\n",
       "      <th>isFlaggedFraud</th>\n",
       "    </tr>\n",
       "  </thead>\n",
       "  <tbody>\n",
       "    <tr>\n",
       "      <th>1617833</th>\n",
       "      <td>157</td>\n",
       "      <td>1</td>\n",
       "      <td>37300.06</td>\n",
       "      <td>C1905248132</td>\n",
       "      <td>0.0</td>\n",
       "      <td>0.00</td>\n",
       "      <td>C1873365591</td>\n",
       "      <td>800426.82</td>\n",
       "      <td>837726.88</td>\n",
       "      <td>0</td>\n",
       "      <td>0</td>\n",
       "    </tr>\n",
       "    <tr>\n",
       "      <th>2788803</th>\n",
       "      <td>215</td>\n",
       "      <td>1</td>\n",
       "      <td>10415.32</td>\n",
       "      <td>C569203596</td>\n",
       "      <td>136655.0</td>\n",
       "      <td>126239.68</td>\n",
       "      <td>C1055370907</td>\n",
       "      <td>3732.47</td>\n",
       "      <td>14147.79</td>\n",
       "      <td>0</td>\n",
       "      <td>0</td>\n",
       "    </tr>\n",
       "    <tr>\n",
       "      <th>5850296</th>\n",
       "      <td>402</td>\n",
       "      <td>1</td>\n",
       "      <td>248101.45</td>\n",
       "      <td>C1984589861</td>\n",
       "      <td>0.0</td>\n",
       "      <td>0.00</td>\n",
       "      <td>C260300844</td>\n",
       "      <td>11617437.89</td>\n",
       "      <td>11865539.33</td>\n",
       "      <td>0</td>\n",
       "      <td>0</td>\n",
       "    </tr>\n",
       "    <tr>\n",
       "      <th>4053715</th>\n",
       "      <td>300</td>\n",
       "      <td>1</td>\n",
       "      <td>571659.60</td>\n",
       "      <td>C1753701776</td>\n",
       "      <td>0.0</td>\n",
       "      <td>0.00</td>\n",
       "      <td>C104905172</td>\n",
       "      <td>7003771.63</td>\n",
       "      <td>7575431.23</td>\n",
       "      <td>0</td>\n",
       "      <td>0</td>\n",
       "    </tr>\n",
       "    <tr>\n",
       "      <th>125073</th>\n",
       "      <td>11</td>\n",
       "      <td>1</td>\n",
       "      <td>342008.21</td>\n",
       "      <td>C477250605</td>\n",
       "      <td>0.0</td>\n",
       "      <td>0.00</td>\n",
       "      <td>C1365259363</td>\n",
       "      <td>596894.75</td>\n",
       "      <td>938902.97</td>\n",
       "      <td>0</td>\n",
       "      <td>0</td>\n",
       "    </tr>\n",
       "  </tbody>\n",
       "</table>\n",
       "</div>"
      ],
      "text/plain": [
       "         step  type     amount     nameOrig  oldbalanceOrg  newbalanceOrig  \\\n",
       "1617833   157     1   37300.06  C1905248132            0.0            0.00   \n",
       "2788803   215     1   10415.32   C569203596       136655.0       126239.68   \n",
       "5850296   402     1  248101.45  C1984589861            0.0            0.00   \n",
       "4053715   300     1  571659.60  C1753701776            0.0            0.00   \n",
       "125073     11     1  342008.21   C477250605            0.0            0.00   \n",
       "\n",
       "            nameDest  oldbalanceDest  newbalanceDest  isFraud  isFlaggedFraud  \n",
       "1617833  C1873365591       800426.82       837726.88        0               0  \n",
       "2788803  C1055370907         3732.47        14147.79        0               0  \n",
       "5850296   C260300844     11617437.89     11865539.33        0               0  \n",
       "4053715   C104905172      7003771.63      7575431.23        0               0  \n",
       "125073   C1365259363       596894.75       938902.97        0               0  "
      ]
     },
     "execution_count": 47,
     "metadata": {},
     "output_type": "execute_result"
    }
   ],
   "source": [
    "test_qtd = testset.shape[0]\n",
    "test_fraud_qtd = len(list(filter(lambda x: x == 1, testset['isFraud'])))\n",
    "test_nonfraud_qtd = len(list(filter(lambda x: x == 0, testset['isFraud'])))\n",
    "test_proportion = test_fraud_qtd / test_qtd\n",
    "\n",
    "print('test_total:', test_qtd)\n",
    "print('test_fraud:', test_fraud_qtd)\n",
    "print('test_nonfraud', test_nonfraud_qtd)\n",
    "print('test_fraud proportion', test_proportion)\n",
    "testset.head()"
   ]
  },
  {
   "cell_type": "markdown",
   "metadata": {},
   "source": [
    "### Divide Fraud x NonFraud"
   ]
  },
  {
   "cell_type": "code",
   "execution_count": 48,
   "metadata": {},
   "outputs": [],
   "source": [
    "train_frauds = trainset.loc[trainset['isFraud'] == 1]\n",
    "train_non_frauds = trainset.loc[trainset['isFraud'] == 0]"
   ]
  },
  {
   "cell_type": "markdown",
   "metadata": {},
   "source": [
    "### Labs"
   ]
  },
  {
   "cell_type": "code",
   "execution_count": 49,
   "metadata": {},
   "outputs": [
    {
     "data": {
      "image/png": "[encoded data removed]",
      "text/plain": [
       "<Figure size 1152x648 with 1 Axes>"
      ]
     },
     "metadata": {},
     "output_type": "display_data"
    }
   ],
   "source": [
    "def plot(x_value, y_value, z_value):\n",
    "    mpl.style.use('seaborn')\n",
    "    fig, ax = plt.subplots(figsize=(16, 9))\n",
    "\n",
    "    x_fraud = train_frauds[[x_value]]\n",
    "    y_fraud = train_frauds[[y_value]]\n",
    "    #z_fraud = train_frauds[[z_value]]\n",
    "\n",
    "    x_nonfraud = train_non_frauds[[x_value]]\n",
    "    y_nonfraud = train_non_frauds[[y_value]]\n",
    "    #z_nonfraud = train_non_frauds[[z_value]]\n",
    "    \n",
    "    ax.set_title('Fraud x NonFraud', color='C0')\n",
    "\n",
    "    ax.plot(x_fraud, y_fraud, 'ro', label='Fraud')\n",
    "    ax.plot(x_nonfraud, y_nonfraud, 'bo', label='NonFraud')\n",
    "    \n",
    "    ax.set_xlabel(x_value)\n",
    "    ax.set_ylabel(y_value)\n",
    "    #ax.set_ylabel(z_value)\n",
    "    \n",
    "    ax.set_xlim([1, 745])\n",
    "    #ax.set_xlim([3,27])\n",
    "    \n",
    "    ax.legend()\n",
    "    \n",
    "plot('step', 'amount', 'type')"
   ]
  }
 ],
 "metadata": {
  "kernelspec": {
   "display_name": "Python 3",
   "language": "python",
   "name": "python3"
  },
  "language_info": {
   "codemirror_mode": {
    "name": "ipython",
    "version": 3
   },
   "file_extension": ".py",
   "mimetype": "text/x-python",
   "name": "python",
   "nbconvert_exporter": "python",
   "pygments_lexer": "ipython3",
   "version": "3.6.5"
  }
 },
 "nbformat": 4,
 "nbformat_minor": 2
}
