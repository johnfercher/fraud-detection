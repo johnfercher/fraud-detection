{
 "cells": [
  {
   "cell_type": "markdown",
   "metadata": {},
   "source": [
    "### imports"
   ]
  },
  {
   "cell_type": "code",
   "execution_count": 2,
   "metadata": {},
   "outputs": [],
   "source": [
    "import numpy as np\n",
    "import pandas as pd\n",
    "import matplotlib.pyplot as plt\n",
    "import matplotlib as mpl"
   ]
  },
  {
   "cell_type": "markdown",
   "metadata": {},
   "source": [
    "### Loading step\n",
    "\n",
    "Synthetic Transactions: https://www.kaggle.com/ntnu-testimon/paysim1"
   ]
  },
  {
   "cell_type": "code",
   "execution_count": 3,
   "metadata": {},
   "outputs": [],
   "source": [
    "dataset = pd.read_csv('data/PS_20174392719_1491204439457_log.csv')\n",
    "dataset = dataset.loc[dataset['type'] != 'PAYMENT']"
   ]
  },
  {
   "cell_type": "markdown",
   "metadata": {},
   "source": [
    "### Sample the data"
   ]
  },
  {
   "cell_type": "code",
   "execution_count": 4,
   "metadata": {},
   "outputs": [],
   "source": [
    "trainset = dataset.sample(frac=0.05)\n",
    "testset = dataset.sample(frac=0.05)"
   ]
  },
  {
   "cell_type": "markdown",
   "metadata": {},
   "source": [
    "### Train dataset information"
   ]
  },
  {
   "cell_type": "code",
   "execution_count": 5,
   "metadata": {},
   "outputs": [
    {
     "name": "stdout",
     "output_type": "stream",
     "text": [
      "train_total: 210556\n",
      "train_fraud: 408\n",
      "train_nonfraud 210148\n",
      "train_fraud proportion 0.0019377267805239461\n"
     ]
    },
    {
     "data": {
      "text/html": [
       "<div>\n",
       "<style scoped>\n",
       "    .dataframe tbody tr th:only-of-type {\n",
       "        vertical-align: middle;\n",
       "    }\n",
       "\n",
       "    .dataframe tbody tr th {\n",
       "        vertical-align: top;\n",
       "    }\n",
       "\n",
       "    .dataframe thead th {\n",
       "        text-align: right;\n",
       "    }\n",
       "</style>\n",
       "<table border=\"1\" class=\"dataframe\">\n",
       "  <thead>\n",
       "    <tr style=\"text-align: right;\">\n",
       "      <th></th>\n",
       "      <th>step</th>\n",
       "      <th>type</th>\n",
       "      <th>amount</th>\n",
       "      <th>nameOrig</th>\n",
       "      <th>oldbalanceOrg</th>\n",
       "      <th>newbalanceOrig</th>\n",
       "      <th>nameDest</th>\n",
       "      <th>oldbalanceDest</th>\n",
       "      <th>newbalanceDest</th>\n",
       "      <th>isFraud</th>\n",
       "      <th>isFlaggedFraud</th>\n",
       "    </tr>\n",
       "  </thead>\n",
       "  <tbody>\n",
       "    <tr>\n",
       "      <th>1747028</th>\n",
       "      <td>161</td>\n",
       "      <td>CASH_OUT</td>\n",
       "      <td>118209.40</td>\n",
       "      <td>C1522608603</td>\n",
       "      <td>0.00</td>\n",
       "      <td>0.00</td>\n",
       "      <td>C456075977</td>\n",
       "      <td>690922.40</td>\n",
       "      <td>742330.88</td>\n",
       "      <td>0</td>\n",
       "      <td>0</td>\n",
       "    </tr>\n",
       "    <tr>\n",
       "      <th>2449391</th>\n",
       "      <td>203</td>\n",
       "      <td>CASH_OUT</td>\n",
       "      <td>150212.02</td>\n",
       "      <td>C351881732</td>\n",
       "      <td>356207.65</td>\n",
       "      <td>205995.63</td>\n",
       "      <td>C1805119187</td>\n",
       "      <td>425648.07</td>\n",
       "      <td>575860.09</td>\n",
       "      <td>0</td>\n",
       "      <td>0</td>\n",
       "    </tr>\n",
       "    <tr>\n",
       "      <th>2696249</th>\n",
       "      <td>211</td>\n",
       "      <td>CASH_IN</td>\n",
       "      <td>355525.06</td>\n",
       "      <td>C1671434444</td>\n",
       "      <td>8836360.52</td>\n",
       "      <td>9191885.58</td>\n",
       "      <td>C2085217761</td>\n",
       "      <td>469856.28</td>\n",
       "      <td>114331.22</td>\n",
       "      <td>0</td>\n",
       "      <td>0</td>\n",
       "    </tr>\n",
       "    <tr>\n",
       "      <th>514581</th>\n",
       "      <td>20</td>\n",
       "      <td>CASH_OUT</td>\n",
       "      <td>135327.72</td>\n",
       "      <td>C671686460</td>\n",
       "      <td>57.00</td>\n",
       "      <td>0.00</td>\n",
       "      <td>C1563134914</td>\n",
       "      <td>0.00</td>\n",
       "      <td>0.00</td>\n",
       "      <td>0</td>\n",
       "      <td>0</td>\n",
       "    </tr>\n",
       "    <tr>\n",
       "      <th>192670</th>\n",
       "      <td>13</td>\n",
       "      <td>CASH_IN</td>\n",
       "      <td>184233.75</td>\n",
       "      <td>C2024138076</td>\n",
       "      <td>73845.92</td>\n",
       "      <td>258079.66</td>\n",
       "      <td>C108202798</td>\n",
       "      <td>351.94</td>\n",
       "      <td>0.00</td>\n",
       "      <td>0</td>\n",
       "      <td>0</td>\n",
       "    </tr>\n",
       "  </tbody>\n",
       "</table>\n",
       "</div>"
      ],
      "text/plain": [
       "         step      type     amount     nameOrig  oldbalanceOrg  \\\n",
       "1747028   161  CASH_OUT  118209.40  C1522608603           0.00   \n",
       "2449391   203  CASH_OUT  150212.02   C351881732      356207.65   \n",
       "2696249   211   CASH_IN  355525.06  C1671434444     8836360.52   \n",
       "514581     20  CASH_OUT  135327.72   C671686460          57.00   \n",
       "192670     13   CASH_IN  184233.75  C2024138076       73845.92   \n",
       "\n",
       "         newbalanceOrig     nameDest  oldbalanceDest  newbalanceDest  isFraud  \\\n",
       "1747028            0.00   C456075977       690922.40       742330.88        0   \n",
       "2449391       205995.63  C1805119187       425648.07       575860.09        0   \n",
       "2696249      9191885.58  C2085217761       469856.28       114331.22        0   \n",
       "514581             0.00  C1563134914            0.00            0.00        0   \n",
       "192670        258079.66   C108202798          351.94            0.00        0   \n",
       "\n",
       "         isFlaggedFraud  \n",
       "1747028               0  \n",
       "2449391               0  \n",
       "2696249               0  \n",
       "514581                0  \n",
       "192670                0  "
      ]
     },
     "execution_count": 5,
     "metadata": {},
     "output_type": "execute_result"
    }
   ],
   "source": [
    "train_qtd = trainset.shape[0]\n",
    "train_fraud_qtd = len(list(filter(lambda x: x == 1, trainset['isFraud'])))\n",
    "train_nonfraud_qtd = len(list(filter(lambda x: x == 0, trainset['isFraud'])))\n",
    "train_proportion = train_fraud_qtd / train_qtd\n",
    "\n",
    "print('train_total:', train_qtd)\n",
    "print('train_fraud:', train_fraud_qtd)\n",
    "print('train_nonfraud', train_nonfraud_qtd)\n",
    "print('train_fraud proportion', train_proportion)\n",
    "trainset.head()"
   ]
  },
  {
   "cell_type": "markdown",
   "metadata": {},
   "source": [
    "### Test dataset information"
   ]
  },
  {
   "cell_type": "code",
   "execution_count": 6,
   "metadata": {},
   "outputs": [
    {
     "name": "stdout",
     "output_type": "stream",
     "text": [
      "test_total: 210556\n",
      "test_fraud: 392\n",
      "test_nonfraud 210164\n",
      "test_fraud proportion 0.0018617374950132032\n"
     ]
    },
    {
     "data": {
      "text/html": [
       "<div>\n",
       "<style scoped>\n",
       "    .dataframe tbody tr th:only-of-type {\n",
       "        vertical-align: middle;\n",
       "    }\n",
       "\n",
       "    .dataframe tbody tr th {\n",
       "        vertical-align: top;\n",
       "    }\n",
       "\n",
       "    .dataframe thead th {\n",
       "        text-align: right;\n",
       "    }\n",
       "</style>\n",
       "<table border=\"1\" class=\"dataframe\">\n",
       "  <thead>\n",
       "    <tr style=\"text-align: right;\">\n",
       "      <th></th>\n",
       "      <th>step</th>\n",
       "      <th>type</th>\n",
       "      <th>amount</th>\n",
       "      <th>nameOrig</th>\n",
       "      <th>oldbalanceOrg</th>\n",
       "      <th>newbalanceOrig</th>\n",
       "      <th>nameDest</th>\n",
       "      <th>oldbalanceDest</th>\n",
       "      <th>newbalanceDest</th>\n",
       "      <th>isFraud</th>\n",
       "      <th>isFlaggedFraud</th>\n",
       "    </tr>\n",
       "  </thead>\n",
       "  <tbody>\n",
       "    <tr>\n",
       "      <th>4245278</th>\n",
       "      <td>306</td>\n",
       "      <td>CASH_OUT</td>\n",
       "      <td>145067.13</td>\n",
       "      <td>C916516206</td>\n",
       "      <td>52062.00</td>\n",
       "      <td>0.00</td>\n",
       "      <td>C1825814788</td>\n",
       "      <td>2119159.51</td>\n",
       "      <td>2264226.65</td>\n",
       "      <td>0</td>\n",
       "      <td>0</td>\n",
       "    </tr>\n",
       "    <tr>\n",
       "      <th>173078</th>\n",
       "      <td>12</td>\n",
       "      <td>CASH_OUT</td>\n",
       "      <td>570109.01</td>\n",
       "      <td>C244985976</td>\n",
       "      <td>886.00</td>\n",
       "      <td>0.00</td>\n",
       "      <td>C564186091</td>\n",
       "      <td>0.00</td>\n",
       "      <td>529806.79</td>\n",
       "      <td>0</td>\n",
       "      <td>0</td>\n",
       "    </tr>\n",
       "    <tr>\n",
       "      <th>4358661</th>\n",
       "      <td>309</td>\n",
       "      <td>CASH_OUT</td>\n",
       "      <td>79517.75</td>\n",
       "      <td>C167101886</td>\n",
       "      <td>0.00</td>\n",
       "      <td>0.00</td>\n",
       "      <td>C439863039</td>\n",
       "      <td>374023.28</td>\n",
       "      <td>453541.03</td>\n",
       "      <td>0</td>\n",
       "      <td>0</td>\n",
       "    </tr>\n",
       "    <tr>\n",
       "      <th>6262076</th>\n",
       "      <td>610</td>\n",
       "      <td>CASH_OUT</td>\n",
       "      <td>100841.69</td>\n",
       "      <td>C1579233190</td>\n",
       "      <td>12593.00</td>\n",
       "      <td>0.00</td>\n",
       "      <td>C735508493</td>\n",
       "      <td>0.00</td>\n",
       "      <td>100841.69</td>\n",
       "      <td>0</td>\n",
       "      <td>0</td>\n",
       "    </tr>\n",
       "    <tr>\n",
       "      <th>4120631</th>\n",
       "      <td>302</td>\n",
       "      <td>CASH_IN</td>\n",
       "      <td>66891.82</td>\n",
       "      <td>C861376764</td>\n",
       "      <td>18836400.07</td>\n",
       "      <td>18903291.88</td>\n",
       "      <td>C261133851</td>\n",
       "      <td>6927431.08</td>\n",
       "      <td>6860539.27</td>\n",
       "      <td>0</td>\n",
       "      <td>0</td>\n",
       "    </tr>\n",
       "  </tbody>\n",
       "</table>\n",
       "</div>"
      ],
      "text/plain": [
       "         step      type     amount     nameOrig  oldbalanceOrg  \\\n",
       "4245278   306  CASH_OUT  145067.13   C916516206       52062.00   \n",
       "173078     12  CASH_OUT  570109.01   C244985976         886.00   \n",
       "4358661   309  CASH_OUT   79517.75   C167101886           0.00   \n",
       "6262076   610  CASH_OUT  100841.69  C1579233190       12593.00   \n",
       "4120631   302   CASH_IN   66891.82   C861376764    18836400.07   \n",
       "\n",
       "         newbalanceOrig     nameDest  oldbalanceDest  newbalanceDest  isFraud  \\\n",
       "4245278            0.00  C1825814788      2119159.51      2264226.65        0   \n",
       "173078             0.00   C564186091            0.00       529806.79        0   \n",
       "4358661            0.00   C439863039       374023.28       453541.03        0   \n",
       "6262076            0.00   C735508493            0.00       100841.69        0   \n",
       "4120631     18903291.88   C261133851      6927431.08      6860539.27        0   \n",
       "\n",
       "         isFlaggedFraud  \n",
       "4245278               0  \n",
       "173078                0  \n",
       "4358661               0  \n",
       "6262076               0  \n",
       "4120631               0  "
      ]
     },
     "execution_count": 6,
     "metadata": {},
     "output_type": "execute_result"
    }
   ],
   "source": [
    "test_qtd = testset.shape[0]\n",
    "test_fraud_qtd = len(list(filter(lambda x: x == 1, testset['isFraud'])))\n",
    "test_nonfraud_qtd = len(list(filter(lambda x: x == 0, testset['isFraud'])))\n",
    "test_proportion = test_fraud_qtd / test_qtd\n",
    "\n",
    "print('test_total:', test_qtd)\n",
    "print('test_fraud:', test_fraud_qtd)\n",
    "print('test_nonfraud', test_nonfraud_qtd)\n",
    "print('test_fraud proportion', test_proportion)\n",
    "testset.head()"
   ]
  },
  {
   "cell_type": "markdown",
   "metadata": {},
   "source": [
    "### Labs"
   ]
  },
  {
   "cell_type": "code",
   "execution_count": 7,
   "metadata": {},
   "outputs": [
    {
     "data": {
      "image/png": "[encoded data removed]",
      "text/plain": [
       "<Figure size 720x720 with 1 Axes>"
      ]
     },
     "metadata": {},
     "output_type": "display_data"
    }
   ],
   "source": [
    "def plot(x_fraud, y_fraud, x_nonfraud, y_nonfraud):\n",
    "    mpl.style.use('seaborn')\n",
    "    fig, ax = plt.subplots(figsize=(10, 10))\n",
    "\n",
    "    ax.set_title('Fraud x NonFraud', color='C0')\n",
    "\n",
    "    ax.plot(x_fraud, y_fraud, 'ro', label='Fraud')\n",
    "    ax.plot(x_nonfraud, y_nonfraud, 'bo', label='NonFraud')\n",
    "    ax.legend()\n",
    "    \n",
    "train_frauds = trainset.loc[trainset['isFraud'] == 1]\n",
    "train_non_frauds = trainset.loc[trainset['isFraud'] == 0]\n",
    "\n",
    "x_fraud = train_frauds[['step']]\n",
    "y_fraud = train_frauds[['amount']]\n",
    "\n",
    "x_nonfraud = train_non_frauds[['step']]\n",
    "y_nonfraud = train_non_frauds[['amount']]\n",
    "\n",
    "plot(x_fraud, y_fraud, x_nonfraud, y_nonfraud)"
   ]
  }
 ],
 "metadata": {
  "kernelspec": {
   "display_name": "Python 3",
   "language": "python",
   "name": "python3"
  },
  "language_info": {
   "codemirror_mode": {
    "name": "ipython",
    "version": 3
   },
   "file_extension": ".py",
   "mimetype": "text/x-python",
   "name": "python",
   "nbconvert_exporter": "python",
   "pygments_lexer": "ipython3",
   "version": "3.6.5"
  }
 },
 "nbformat": 4,
 "nbformat_minor": 2
}
