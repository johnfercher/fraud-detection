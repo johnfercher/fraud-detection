{
 "cells": [
  {
   "cell_type": "markdown",
   "metadata": {},
   "source": [
    "### imports"
   ]
  },
  {
   "cell_type": "code",
   "execution_count": 2,
   "metadata": {},
   "outputs": [],
   "source": [
    "import numpy as np\n",
    "import pandas as pd\n",
    "import matplotlib.pyplot as plt\n",
    "import matplotlib as mpl"
   ]
  },
  {
   "cell_type": "markdown",
   "metadata": {},
   "source": [
    "### Loading step\n",
    "\n",
    "Synthetic Transactions: https://www.kaggle.com/ntnu-testimon/paysim1"
   ]
  },
  {
   "cell_type": "code",
   "execution_count": 3,
   "metadata": {},
   "outputs": [],
   "source": [
    "# Load file\n",
    "dataset = pd.read_csv('data/PS_20174392719_1491204439457_log.csv')\n",
    "\n",
    "# Remove types that never are fraud\n",
    "dataset = dataset.loc[dataset['type'] != 'PAYMENT']\n",
    "dataset = dataset.loc[dataset['type'] != 'DEBIT']\n",
    "dataset = dataset.loc[dataset['type'] != 'CASH_IN']\n",
    "\n",
    "dataset = dataset.loc[dataset['amount'] >= 3]"
   ]
  },
  {
   "cell_type": "markdown",
   "metadata": {},
   "source": [
    "### Sample the data"
   ]
  },
  {
   "cell_type": "code",
   "execution_count": 4,
   "metadata": {},
   "outputs": [],
   "source": [
    "trainset = dataset.sample(frac=0.05)\n",
    "testset = dataset.sample(frac=0.05)"
   ]
  },
  {
   "cell_type": "markdown",
   "metadata": {},
   "source": [
    "### Train dataset information"
   ]
  },
  {
   "cell_type": "code",
   "execution_count": 5,
   "metadata": {},
   "outputs": [
    {
     "name": "stdout",
     "output_type": "stream",
     "text": [
      "train_total: 138518\n",
      "train_fraud: 384\n",
      "train_nonfraud 138134\n",
      "train_fraud proportion 0.0027722028905990555\n"
     ]
    },
    {
     "data": {
      "text/html": [
       "<div>\n",
       "<style scoped>\n",
       "    .dataframe tbody tr th:only-of-type {\n",
       "        vertical-align: middle;\n",
       "    }\n",
       "\n",
       "    .dataframe tbody tr th {\n",
       "        vertical-align: top;\n",
       "    }\n",
       "\n",
       "    .dataframe thead th {\n",
       "        text-align: right;\n",
       "    }\n",
       "</style>\n",
       "<table border=\"1\" class=\"dataframe\">\n",
       "  <thead>\n",
       "    <tr style=\"text-align: right;\">\n",
       "      <th></th>\n",
       "      <th>step</th>\n",
       "      <th>type</th>\n",
       "      <th>amount</th>\n",
       "      <th>nameOrig</th>\n",
       "      <th>oldbalanceOrg</th>\n",
       "      <th>newbalanceOrig</th>\n",
       "      <th>nameDest</th>\n",
       "      <th>oldbalanceDest</th>\n",
       "      <th>newbalanceDest</th>\n",
       "      <th>isFraud</th>\n",
       "      <th>isFlaggedFraud</th>\n",
       "    </tr>\n",
       "  </thead>\n",
       "  <tbody>\n",
       "    <tr>\n",
       "      <th>128158</th>\n",
       "      <td>11</td>\n",
       "      <td>TRANSFER</td>\n",
       "      <td>1718117.51</td>\n",
       "      <td>C2133199793</td>\n",
       "      <td>0.00</td>\n",
       "      <td>0.00</td>\n",
       "      <td>C2107960573</td>\n",
       "      <td>2979184.35</td>\n",
       "      <td>4748916.38</td>\n",
       "      <td>0</td>\n",
       "      <td>0</td>\n",
       "    </tr>\n",
       "    <tr>\n",
       "      <th>278753</th>\n",
       "      <td>15</td>\n",
       "      <td>CASH_OUT</td>\n",
       "      <td>108592.28</td>\n",
       "      <td>C970425075</td>\n",
       "      <td>0.00</td>\n",
       "      <td>0.00</td>\n",
       "      <td>C343563320</td>\n",
       "      <td>1257377.89</td>\n",
       "      <td>681029.68</td>\n",
       "      <td>0</td>\n",
       "      <td>0</td>\n",
       "    </tr>\n",
       "    <tr>\n",
       "      <th>2098997</th>\n",
       "      <td>182</td>\n",
       "      <td>CASH_OUT</td>\n",
       "      <td>233386.45</td>\n",
       "      <td>C613499733</td>\n",
       "      <td>40724.00</td>\n",
       "      <td>0.00</td>\n",
       "      <td>C1466852428</td>\n",
       "      <td>409357.22</td>\n",
       "      <td>642743.68</td>\n",
       "      <td>0</td>\n",
       "      <td>0</td>\n",
       "    </tr>\n",
       "    <tr>\n",
       "      <th>2513215</th>\n",
       "      <td>205</td>\n",
       "      <td>TRANSFER</td>\n",
       "      <td>202988.10</td>\n",
       "      <td>C898588555</td>\n",
       "      <td>458546.71</td>\n",
       "      <td>255558.61</td>\n",
       "      <td>C1578086863</td>\n",
       "      <td>514983.75</td>\n",
       "      <td>720392.52</td>\n",
       "      <td>0</td>\n",
       "      <td>0</td>\n",
       "    </tr>\n",
       "    <tr>\n",
       "      <th>482844</th>\n",
       "      <td>19</td>\n",
       "      <td>CASH_OUT</td>\n",
       "      <td>205380.42</td>\n",
       "      <td>C1336458024</td>\n",
       "      <td>118427.26</td>\n",
       "      <td>0.00</td>\n",
       "      <td>C1617763185</td>\n",
       "      <td>0.00</td>\n",
       "      <td>508659.35</td>\n",
       "      <td>0</td>\n",
       "      <td>0</td>\n",
       "    </tr>\n",
       "  </tbody>\n",
       "</table>\n",
       "</div>"
      ],
      "text/plain": [
       "         step      type      amount     nameOrig  oldbalanceOrg  \\\n",
       "128158     11  TRANSFER  1718117.51  C2133199793           0.00   \n",
       "278753     15  CASH_OUT   108592.28   C970425075           0.00   \n",
       "2098997   182  CASH_OUT   233386.45   C613499733       40724.00   \n",
       "2513215   205  TRANSFER   202988.10   C898588555      458546.71   \n",
       "482844     19  CASH_OUT   205380.42  C1336458024      118427.26   \n",
       "\n",
       "         newbalanceOrig     nameDest  oldbalanceDest  newbalanceDest  isFraud  \\\n",
       "128158             0.00  C2107960573      2979184.35      4748916.38        0   \n",
       "278753             0.00   C343563320      1257377.89       681029.68        0   \n",
       "2098997            0.00  C1466852428       409357.22       642743.68        0   \n",
       "2513215       255558.61  C1578086863       514983.75       720392.52        0   \n",
       "482844             0.00  C1617763185            0.00       508659.35        0   \n",
       "\n",
       "         isFlaggedFraud  \n",
       "128158                0  \n",
       "278753                0  \n",
       "2098997               0  \n",
       "2513215               0  \n",
       "482844                0  "
      ]
     },
     "execution_count": 5,
     "metadata": {},
     "output_type": "execute_result"
    }
   ],
   "source": [
    "train_qtd = trainset.shape[0]\n",
    "train_fraud_qtd = len(list(filter(lambda x: x == 1, trainset['isFraud'])))\n",
    "train_nonfraud_qtd = len(list(filter(lambda x: x == 0, trainset['isFraud'])))\n",
    "train_proportion = train_fraud_qtd / train_qtd\n",
    "\n",
    "print('train_total:', train_qtd)\n",
    "print('train_fraud:', train_fraud_qtd)\n",
    "print('train_nonfraud', train_nonfraud_qtd)\n",
    "print('train_fraud proportion', train_proportion)\n",
    "trainset.head()"
   ]
  },
  {
   "cell_type": "markdown",
   "metadata": {},
   "source": [
    "### Test dataset information"
   ]
  },
  {
   "cell_type": "code",
   "execution_count": 6,
   "metadata": {},
   "outputs": [
    {
     "name": "stdout",
     "output_type": "stream",
     "text": [
      "test_total: 138518\n",
      "test_fraud: 429\n",
      "test_nonfraud 138089\n",
      "test_fraud proportion 0.0030970704168411327\n"
     ]
    },
    {
     "data": {
      "text/html": [
       "<div>\n",
       "<style scoped>\n",
       "    .dataframe tbody tr th:only-of-type {\n",
       "        vertical-align: middle;\n",
       "    }\n",
       "\n",
       "    .dataframe tbody tr th {\n",
       "        vertical-align: top;\n",
       "    }\n",
       "\n",
       "    .dataframe thead th {\n",
       "        text-align: right;\n",
       "    }\n",
       "</style>\n",
       "<table border=\"1\" class=\"dataframe\">\n",
       "  <thead>\n",
       "    <tr style=\"text-align: right;\">\n",
       "      <th></th>\n",
       "      <th>step</th>\n",
       "      <th>type</th>\n",
       "      <th>amount</th>\n",
       "      <th>nameOrig</th>\n",
       "      <th>oldbalanceOrg</th>\n",
       "      <th>newbalanceOrig</th>\n",
       "      <th>nameDest</th>\n",
       "      <th>oldbalanceDest</th>\n",
       "      <th>newbalanceDest</th>\n",
       "      <th>isFraud</th>\n",
       "      <th>isFlaggedFraud</th>\n",
       "    </tr>\n",
       "  </thead>\n",
       "  <tbody>\n",
       "    <tr>\n",
       "      <th>5696377</th>\n",
       "      <td>397</td>\n",
       "      <td>CASH_OUT</td>\n",
       "      <td>179688.18</td>\n",
       "      <td>C1500748434</td>\n",
       "      <td>20127.0</td>\n",
       "      <td>0.0</td>\n",
       "      <td>C461229928</td>\n",
       "      <td>532402.62</td>\n",
       "      <td>712090.81</td>\n",
       "      <td>0</td>\n",
       "      <td>0</td>\n",
       "    </tr>\n",
       "    <tr>\n",
       "      <th>5801014</th>\n",
       "      <td>401</td>\n",
       "      <td>CASH_OUT</td>\n",
       "      <td>60189.37</td>\n",
       "      <td>C930805500</td>\n",
       "      <td>2032.0</td>\n",
       "      <td>0.0</td>\n",
       "      <td>C1024876409</td>\n",
       "      <td>439295.01</td>\n",
       "      <td>636059.17</td>\n",
       "      <td>0</td>\n",
       "      <td>0</td>\n",
       "    </tr>\n",
       "    <tr>\n",
       "      <th>4768491</th>\n",
       "      <td>334</td>\n",
       "      <td>CASH_OUT</td>\n",
       "      <td>111832.77</td>\n",
       "      <td>C911605891</td>\n",
       "      <td>0.0</td>\n",
       "      <td>0.0</td>\n",
       "      <td>C1250041858</td>\n",
       "      <td>507694.41</td>\n",
       "      <td>619527.18</td>\n",
       "      <td>0</td>\n",
       "      <td>0</td>\n",
       "    </tr>\n",
       "    <tr>\n",
       "      <th>4573915</th>\n",
       "      <td>328</td>\n",
       "      <td>TRANSFER</td>\n",
       "      <td>4979581.82</td>\n",
       "      <td>C862123792</td>\n",
       "      <td>644956.0</td>\n",
       "      <td>0.0</td>\n",
       "      <td>C178321564</td>\n",
       "      <td>1507233.56</td>\n",
       "      <td>6486815.38</td>\n",
       "      <td>0</td>\n",
       "      <td>0</td>\n",
       "    </tr>\n",
       "    <tr>\n",
       "      <th>1432622</th>\n",
       "      <td>139</td>\n",
       "      <td>CASH_OUT</td>\n",
       "      <td>190518.02</td>\n",
       "      <td>C1760223044</td>\n",
       "      <td>105.0</td>\n",
       "      <td>0.0</td>\n",
       "      <td>C1019765161</td>\n",
       "      <td>1350329.88</td>\n",
       "      <td>1540847.90</td>\n",
       "      <td>0</td>\n",
       "      <td>0</td>\n",
       "    </tr>\n",
       "  </tbody>\n",
       "</table>\n",
       "</div>"
      ],
      "text/plain": [
       "         step      type      amount     nameOrig  oldbalanceOrg  \\\n",
       "5696377   397  CASH_OUT   179688.18  C1500748434        20127.0   \n",
       "5801014   401  CASH_OUT    60189.37   C930805500         2032.0   \n",
       "4768491   334  CASH_OUT   111832.77   C911605891            0.0   \n",
       "4573915   328  TRANSFER  4979581.82   C862123792       644956.0   \n",
       "1432622   139  CASH_OUT   190518.02  C1760223044          105.0   \n",
       "\n",
       "         newbalanceOrig     nameDest  oldbalanceDest  newbalanceDest  isFraud  \\\n",
       "5696377             0.0   C461229928       532402.62       712090.81        0   \n",
       "5801014             0.0  C1024876409       439295.01       636059.17        0   \n",
       "4768491             0.0  C1250041858       507694.41       619527.18        0   \n",
       "4573915             0.0   C178321564      1507233.56      6486815.38        0   \n",
       "1432622             0.0  C1019765161      1350329.88      1540847.90        0   \n",
       "\n",
       "         isFlaggedFraud  \n",
       "5696377               0  \n",
       "5801014               0  \n",
       "4768491               0  \n",
       "4573915               0  \n",
       "1432622               0  "
      ]
     },
     "execution_count": 6,
     "metadata": {},
     "output_type": "execute_result"
    }
   ],
   "source": [
    "test_qtd = testset.shape[0]\n",
    "test_fraud_qtd = len(list(filter(lambda x: x == 1, testset['isFraud'])))\n",
    "test_nonfraud_qtd = len(list(filter(lambda x: x == 0, testset['isFraud'])))\n",
    "test_proportion = test_fraud_qtd / test_qtd\n",
    "\n",
    "print('test_total:', test_qtd)\n",
    "print('test_fraud:', test_fraud_qtd)\n",
    "print('test_nonfraud', test_nonfraud_qtd)\n",
    "print('test_fraud proportion', test_proportion)\n",
    "testset.head()"
   ]
  },
  {
   "cell_type": "markdown",
   "metadata": {},
   "source": [
    "### Labs"
   ]
  },
  {
   "cell_type": "code",
   "execution_count": 7,
   "metadata": {},
   "outputs": [
    {
     "data": {
      "image/png": "[encoded data removed]",
      "text/plain": [
       "<Figure size 1152x648 with 1 Axes>"
      ]
     },
     "metadata": {},
     "output_type": "display_data"
    }
   ],
   "source": [
    "def plot(x_value, y_value):\n",
    "    mpl.style.use('seaborn')\n",
    "    fig, ax = plt.subplots(figsize=(16, 9))\n",
    "    \n",
    "    train_frauds = trainset.loc[trainset['isFraud'] == 1]\n",
    "    train_non_frauds = trainset.loc[trainset['isFraud'] == 0]\n",
    "\n",
    "    x_fraud = train_frauds[[x_value]]\n",
    "    y_fraud = train_frauds[[y_value]]\n",
    "\n",
    "    x_nonfraud = train_non_frauds[[x_value]]\n",
    "    y_nonfraud = train_non_frauds[[y_value]]\n",
    "\n",
    "    ax.set_title('Fraud x NonFraud', color='C0')\n",
    "\n",
    "    ax.plot(x_fraud, y_fraud, 'ro', label='Fraud')\n",
    "    ax.plot(x_nonfraud, y_nonfraud, 'bo', label='NonFraud')\n",
    "    \n",
    "    ax.set_xlabel(x_value)\n",
    "    ax.set_ylabel(y_value)\n",
    "    \n",
    "    ax.set_xlim([3,171])\n",
    "    \n",
    "    ax.legend()\n",
    "    \n",
    "plot('step', 'amount')"
   ]
  }
 ],
 "metadata": {
  "kernelspec": {
   "display_name": "Python 3",
   "language": "python",
   "name": "python3"
  },
  "language_info": {
   "codemirror_mode": {
    "name": "ipython",
    "version": 3
   },
   "file_extension": ".py",
   "mimetype": "text/x-python",
   "name": "python",
   "nbconvert_exporter": "python",
   "pygments_lexer": "ipython3",
   "version": "3.6.5"
  }
 },
 "nbformat": 4,
 "nbformat_minor": 2
}
